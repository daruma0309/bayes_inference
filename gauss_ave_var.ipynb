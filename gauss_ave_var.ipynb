{
 "cells": [
  {
   "cell_type": "code",
   "execution_count": 1,
   "metadata": {},
   "outputs": [],
   "source": [
    "% matplotlib inline\n",
    "import numpy as np\n",
    "import matplotlib.pyplot as plt"
   ]
  },
  {
   "cell_type": "code",
   "execution_count": 2,
   "metadata": {},
   "outputs": [],
   "source": [
    "class estimator_ave_var():\n",
    "    def __init__(self, m, beta, a, b):\n",
    "        self.m = m\n",
    "        self.beta = beta\n",
    "        self.a = a\n",
    "        self.b = b\n",
    "        self.m_esti = 0\n",
    "        self.beta_esti = 0\n",
    "        self.a_esti = 0\n",
    "        self.b_esti = 0\n",
    "    \n",
    "    # パラメータを解析的に計算\n",
    "    def calc_beta(self, x):\n",
    "        self.beta_esti = x.size + self.beta\n",
    "        return self.beta_esti\n",
    "    def calc_m(self, x):\n",
    "        self.m_esti = (np.sum(x) + self.beta*self.m) / self.beta_esti\n",
    "        return self.m_esti\n",
    "    def calc_a(self, x):\n",
    "        self.a_esti = x.size/2.0 + self.a\n",
    "        return self.a_esti\n",
    "    def calc_b(self, x):\n",
    "        self.b_esti = (np.sum(x**2) + self.beta*self.m**2 - self.beta_esti*self.m_esti**2) / 2.0 + self.b\n",
    "        return self.b_esti\n",
    "    \n",
    "    # 平均と分散(精度)を取得\n",
    "    def get_ave(self):\n",
    "        return self.m_esti\n",
    "    def get_var(self):\n",
    "        return self.a_esti/self.b_esti"
   ]
  },
  {
   "cell_type": "code",
   "execution_count": 3,
   "metadata": {},
   "outputs": [],
   "source": [
    "class gauss():\n",
    "    def __init__(self, mu, sigma2):\n",
    "        self.mu = mu\n",
    "        self.sigma2 = sigma2\n",
    "    def func(self, x):\n",
    "        return 1.0/np.sqrt(2*np.pi*self.sigma2)*np.exp(-(x-self.mu)**2/(2*self.sigma2))"
   ]
  },
  {
   "cell_type": "code",
   "execution_count": 11,
   "metadata": {},
   "outputs": [
    {
     "data": {
      "image/png": "[encoded data removed]",
      "text/plain": [
       "<matplotlib.figure.Figure at 0x25bf705d898>"
      ]
     },
     "metadata": {},
     "output_type": "display_data"
    },
    {
     "data": {
      "text/plain": [
       "[<matplotlib.lines.Line2D at 0x25bf80d0400>]"
      ]
     },
     "execution_count": 11,
     "metadata": {},
     "output_type": "execute_result"
    },
    {
     "data": {
      "image/png": "[encoded data removed]",
      "text/plain": [
       "<matplotlib.figure.Figure at 0x25bf4fb32e8>"
      ]
     },
     "metadata": {},
     "output_type": "display_data"
    }
   ],
   "source": [
    "# 平均 50, 標準偏差 10 の正規乱数を1,000件生成\n",
    "x = np.random.normal(50, 10, 1000)\n",
    "# 平均 80, 標準偏差 6 の正規乱数を1,000件生成\n",
    "#x2 = np.random.normal(80, 6, 1000)\n",
    "#x = np.hstack((x1, x2)) # 連結\n",
    "\n",
    "# ヒストグラムを出力\n",
    "plt.hist(x, bins=30)\n",
    "plt.show()\n",
    "\n",
    "# 平均のパラメータを推定\n",
    "eav = estimator_ave_var(m=20.0, beta=1.0, a=1.0, b=1.0)\n",
    "eav.calc_beta(x)\n",
    "eav.calc_m(x)\n",
    "eav.calc_a(x)\n",
    "eav.calc_b(x)\n",
    "\n",
    "mu = eav.get_ave()\n",
    "sigma2 = 1.0/eav.get_var() # 精度の逆数\n",
    "\n",
    "# 求めた平均と分散を用いてガウス分布を定義 分布の平均を代表とする\n",
    "g = gauss(mu, sigma2)\n",
    "\n",
    "x_ary = np.linspace(0, 100, 1000)\n",
    "y_ary = g.func(x_ary)\n",
    "plt.xlim(np.min(x), np.max(x))\n",
    "plt.plot(x_ary, y_ary)"
   ]
  },
  {
   "cell_type": "code",
   "execution_count": null,
   "metadata": {},
   "outputs": [],
   "source": []
  }
 ],
 "metadata": {
  "kernelspec": {
   "display_name": "Python 3",
   "language": "python",
   "name": "python3"
  },
  "language_info": {
   "codemirror_mode": {
    "name": "ipython",
    "version": 3
   },
   "file_extension": ".py",
   "mimetype": "text/x-python",
   "name": "python",
   "nbconvert_exporter": "python",
   "pygments_lexer": "ipython3",
   "version": "3.6.4"
  }
 },
 "nbformat": 4,
 "nbformat_minor": 2
}
