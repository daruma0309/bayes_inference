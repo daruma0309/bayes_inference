{
 "cells": [
  {
   "cell_type": "code",
   "execution_count": 5,
   "metadata": {},
   "outputs": [],
   "source": [
    "% matplotlib inline\n",
    "import numpy as np\n",
    "import matplotlib.pyplot as plt\n",
    "from scipy import stats"
   ]
  },
  {
   "cell_type": "code",
   "execution_count": 137,
   "metadata": {},
   "outputs": [],
   "source": [
    "class Gibbs_Sampling_poisson_mixture():\n",
    "    def __init__(self, lambda_ini, pi_ini, a_ini, b_ini, alpha_ini, N, K): # N:入力データ数, K:クラス数(2)\n",
    "        self.lambda_ = lambda_ini\n",
    "        self.pi = pi_ini\n",
    "        self.a = a_ini\n",
    "        self.b = b_ini\n",
    "        self.alpha = alpha_ini\n",
    "        self.N = N\n",
    "        self.K = K\n",
    "        \n",
    "        self.s = np.zeros((N, K))\n",
    "\n",
    "    # s_nをサンプリング\n",
    "    def sampling_s(self, x, n):      \n",
    "        eta = np.zeros(self.K) # 必要？\n",
    "        eta = np.exp(x[n]*np.log(self.lambda_) - self.lambda_ + np.log(self.pi))\n",
    "        eta = eta / np.sum(eta) # 規格化\n",
    "        \n",
    "        xk = np.arange(self.K)\n",
    "        custm = stats.rv_discrete(name='custm', values=(xk, eta)) # カテゴリ分布を定義\n",
    "        \n",
    "        s = np.zeros(self.K)\n",
    "        k = custm.rvs() # custm.rvs()は離散変数のインデクスを出力 exp:0,1,2\n",
    "        s[k] = 1 # ワンホットに変換\n",
    "        \n",
    "        return s\n",
    "    \n",
    "    # lambda_kをサンプリング\n",
    "    def sampling_lambda(self, x, k):\n",
    "        # a_kを計算\n",
    "        tmp = 0\n",
    "        for n in range(self.N):\n",
    "            tmp += self.s[n, k]*x[n]\n",
    "        ak_esti = tmp + self.a\n",
    "            \n",
    "        # b_kを計算\n",
    "        tmp = 0\n",
    "        for n in range(self.N):\n",
    "            tmp += self.s[n, k]\n",
    "        bk_esti = tmp + self.b\n",
    "        \n",
    "        g = stats.gamma(a=ak_esti, scale=1.0/bk_esti) # ガンマ分布を定義 尺度母数:scale=1/b \n",
    "        \n",
    "        return g.rvs()\n",
    "    \n",
    "    # piをサンプリング\n",
    "    def sampling_pi(self):\n",
    "        # alphaを計算\n",
    "        alpha_esti = np.zeros(self.K)\n",
    "        for k in range(self.K):\n",
    "            tmp = 0\n",
    "            for n in range(self.N):\n",
    "                tmp += self.s[n, k]\n",
    "            alpha_esti[k] = tmp + self.alpha[k]\n",
    "            \n",
    "        d = stats.dirichlet(alpha=alpha_esti) # ディリクレ分布を定義\n",
    "        \n",
    "        return (d.rvs())[0]\n",
    "    \n",
    "    def gibbs_sampling(self, x):\n",
    "        lambda_old = 0\n",
    "        for i in range(50):\n",
    "            for n in range(self.N):\n",
    "                self.s[n] = self.sampling_s(x, n)\n",
    "            for k in range(self.K):\n",
    "                self.lambda_[k] = self.sampling_lambda(x, k)\n",
    "            self.pi = self.sampling_pi()\n",
    "            \n",
    "    def get_lambda(self):\n",
    "        return self.lambda_\n",
    "    def get_pi(self):\n",
    "        return self.pi"
   ]
  },
  {
   "cell_type": "code",
   "execution_count": 146,
   "metadata": {},
   "outputs": [
    {
     "data": {
      "image/png": "[encoded data removed]",
      "text/plain": [
       "<Figure size 432x288 with 1 Axes>"
      ]
     },
     "metadata": {},
     "output_type": "display_data"
    },
    {
     "name": "stdout",
     "output_type": "stream",
     "text": [
      "[ 4.39605237 13.44548092] [0.42877906 0.57122094]\n"
     ]
    },
    {
     "data": {
      "image/png": "[encoded data removed]",
      "text/plain": [
       "<Figure size 432x288 with 1 Axes>"
      ]
     },
     "metadata": {},
     "output_type": "display_data"
    }
   ],
   "source": [
    "# 平均 50, 標準偏差 10 の正規乱数を1,000件生成\n",
    "x1 = stats.poisson(5).rvs(100)\n",
    "# 平均 80, 標準偏差 6 の正規乱数を1,000件生成\n",
    "x2 = stats.poisson(15).rvs(100)\n",
    "x = np.hstack((x1, x2)) # 連結\n",
    "\n",
    "# ヒストグラムを出力\n",
    "plt.hist(x, bins=20)\n",
    "plt.show()\n",
    "\n",
    "g = Gibbs_Sampling_poisson_mixture(np.array([10.0, 10.0]), np.array([0.5, 0.5]), 1., 1., np.array([1., 1.]), x.size, 2)\n",
    "\n",
    "g.gibbs_sampling(x)\n",
    "\n",
    "print(g.get_lambda(), g.get_pi())\n",
    "    \n",
    "# 求めた平均と混合比率を用いてポアソン分布を定義\n",
    "p1 = stats.poisson((g.get_lambda())[0])\n",
    "p2 = stats.poisson((g.get_lambda())[1])\n",
    "\n",
    "fig, ax = plt.subplots(1, 1)\n",
    "ax.set_xlabel('x')             # x軸ラベル\n",
    "ax.set_ylabel('probability')   # y軸ラベル\n",
    "ax.set_title(\"Gibbs Sampling\") # グラフタイトル\n",
    "\n",
    "x_ary = np.arange(25)\n",
    "plt.xlim(np.min(x), np.max(x))\n",
    "plt.plot(x_ary, p1.pmf(x_ary), label=\"poisson1\")\n",
    "plt.plot(x_ary, p2.pmf(x_ary), label=\"poisson2\")\n",
    "plt.show()"
   ]
  },
  {
   "cell_type": "code",
   "execution_count": null,
   "metadata": {},
   "outputs": [],
   "source": []
  }
 ],
 "metadata": {
  "kernelspec": {
   "display_name": "Python 3",
   "language": "python",
   "name": "python3"
  },
  "language_info": {
   "codemirror_mode": {
    "name": "ipython",
    "version": 3
   },
   "file_extension": ".py",
   "mimetype": "text/x-python",
   "name": "python",
   "nbconvert_exporter": "python",
   "pygments_lexer": "ipython3",
   "version": "3.6.5"
  }
 },
 "nbformat": 4,
 "nbformat_minor": 2
}
